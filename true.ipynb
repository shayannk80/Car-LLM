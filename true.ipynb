{
 "cells": [
  {
   "cell_type": "code",
   "execution_count": 1,
   "id": "e5366a7d-cfc8-41e0-867a-cfd5c97e5dd1",
   "metadata": {},
   "outputs": [],
   "source": [
    "import pandas as pd\n",
    "import os\n",
    "from langchain_community.vectorstores import Chroma\n",
    "from langchain_text_splitters import RecursiveCharacterTextSplitter\n",
    "from langchain_ollama import OllamaEmbeddings\n",
    "from langchain.schema import Document "
   ]
  },
  {
   "cell_type": "code",
   "execution_count": 37,
   "id": "3b9679e7-2cf6-4358-9dbf-0aeb0c3dc61a",
   "metadata": {},
   "outputs": [
    {
     "name": "stdout",
     "output_type": "stream",
     "text": [
      "['The audi brand has a model called Q4-e-tron, which is available as a - type in the years [2024].', 'the Drive axle of the Q4-e-tron model from the audi brand is Four-wheel drive. ', 'the Gearbox of the Q4-e-tron model from the audi brand is Single-speed automatic transmission. ', 'the Battery capacity of the Q4-e-tron model from the audi brand is 84.8. ', 'the Power of the Q4-e-tron model from the audi brand is 313 kW. ']\n"
     ]
    }
   ],
   "source": [
    "# Load the CSV file\n",
    "df = pd.read_csv('brands_flattened_complete.csv', header=0, index_col=False, encoding='utf-8')\n",
    "\n",
    "# Initialize an empty list to store the sentences\n",
    "entire_text = []\n",
    "\n",
    "# Iterate over each row in the DataFrame\n",
    "for _, row in df.iterrows():\n",
    "    # Start with the base sentence\n",
    "    sentence = f\"The {row['name-en']} brand has a model called {row['model-name-en']}, which is available as a {row['type-name-en']} type in the years {row['type-years']}.\"\n",
    "    entire_text.append(sentence)\n",
    "\n",
    "    # Add all features \n",
    "    for col in df.columns[df.columns.get_loc('Drive axle'):]:\n",
    "        feature_value = row[col]\n",
    "        if pd.notna(feature_value):  # Only include non-NaN values\n",
    "            if row['type-name-en'] != \"-\": #if has type name \n",
    "                if feature_value is True:  \n",
    "                    entire_text.append(f\"the {row['type-name-en']} version of the {row['model-name-en']} model from the {row['name-en']} brand has {col}.\")\n",
    "                elif feature_value is False:  \n",
    "                    entire_text.append(f\"the {row['type-name-en']} version of the {row['model-name-en']} model from the {row['name-en']} brand doesn't have {col}.\")\n",
    "                else:  # For other values (e.g., strings, numbers)\n",
    "                    entire_text.append(f\"the {col} of the {row['type-name-en']} version of the {row['model-name-en']} model from the {row['name-en']} brand is {feature_value}.\")\n",
    "            else:\n",
    "                if feature_value is True:  \n",
    "                    entire_text.append(f\"the {row['model-name-en']} model from the {row['name-en']} brand has {col}.\")\n",
    "                elif feature_value is False:  \n",
    "                    entire_text.append(f\"the {row['model-name-en']} model from the {row['name-en']} brand doesn't have {col}.\")\n",
    "                else:  # For other values (e.g., strings, numbers)\n",
    "                    entire_text.append(f\"the {col} of the {row['model-name-en']} model from the {row['name-en']} brand is {feature_value}. \")\n",
    "\n",
    "# Print the first few sentences to verify\n",
    "print(entire_text[:5])\n",
    "\n"
   ]
  },
  {
   "cell_type": "code",
   "execution_count": 27,
   "id": "1639b1e4-702b-429a-9d03-1b8371384202",
   "metadata": {},
   "outputs": [],
   "source": [
    "# Saving the list to a file\n",
    "with open('entire_text.txt', 'w') as file:\n",
    "    for item in entire_text:\n",
    "        file.write(item + '\\n')  # Write each string on a new line"
   ]
  },
  {
   "cell_type": "code",
   "execution_count": 3,
   "id": "c63079a1-00f3-4acb-95cd-c9d9dee2d7dd",
   "metadata": {},
   "outputs": [
    {
     "data": {
      "text/plain": [
       "1318"
      ]
     },
     "execution_count": 3,
     "metadata": {},
     "output_type": "execute_result"
    }
   ],
   "source": [
    "len(entire_text)"
   ]
  },
  {
   "cell_type": "code",
   "execution_count": 5,
   "id": "e055d54d-f07a-4e86-bd66-3524eee09968",
   "metadata": {},
   "outputs": [
    {
     "name": "stdout",
     "output_type": "stream",
     "text": [
      "['The audi brand has a model called Q4-e-tron, which is available as a - type in the years [2024]. the Drive axle of the Q4-e-tron model from the audi brand is Four-wheel drive.  the Gearbox of the Q4-e-tron model from the audi brand is Single-speed automatic transmission. ', 'the Battery capacity of the Q4-e-tron model from the audi brand is 84.8.  the Power of the Q4-e-tron model from the audi brand is 313 kW.  the Speed of the Q4-e-tron model from the audi brand is 160. ', 'the Acceleration of the Q4-e-tron model from the audi brand is 6.8.  the Torque of the Q4-e-tron model from the audi brand is 472.  the Effective range of the Q4-e-tron model from the audi brand is 560. ', 'the Body type of the Q4-e-tron model from the audi brand is Small crossover size.  the Generation (Body code) of the Q4-e-tron model from the audi brand is Modular MEB.  the Length of the Q4-e-tron model from the audi brand is 4588. ', 'the Width of the Q4-e-tron model from the audi brand is 1865.  the Height of the Q4-e-tron model from the audi brand is 1626.  the Wheelbase of the Q4-e-tron model from the audi brand is 2764. ']\n"
     ]
    }
   ],
   "source": [
    "merged_text = []\n",
    "for i in range(0, len(entire_text), 3):\n",
    "    merged_text.append(\" \".join(entire_text[i:i+3]))\n",
    "\n",
    "print(merged_text[:5])\n",
    "entire_text = merged_text"
   ]
  },
  {
   "cell_type": "code",
   "execution_count": 7,
   "id": "cad502d1-ac48-4f7f-9e6e-57344cb12071",
   "metadata": {},
   "outputs": [
    {
     "data": {
      "text/plain": [
       "440"
      ]
     },
     "execution_count": 7,
     "metadata": {},
     "output_type": "execute_result"
    }
   ],
   "source": [
    "len(entire_text)"
   ]
  },
  {
   "cell_type": "code",
   "execution_count": 19,
   "id": "eb77c5a1-67c2-4aa4-b08c-1a7a20db4bdb",
   "metadata": {},
   "outputs": [
    {
     "name": "stdout",
     "output_type": "stream",
     "text": [
      "max = 411, min = 86, mean = 280.4977272727273\n"
     ]
    }
   ],
   "source": [
    "import statistics\n",
    "\n",
    "char_size = []\n",
    "for text in merged_text:\n",
    "    char_size.append(len(text))\n",
    "print(f'max = {max(char_size)}, min = {min(char_size)}, mean = {statistics.mean(char_size)}')"
   ]
  },
  {
   "cell_type": "code",
   "execution_count": 21,
   "id": "d47e28f6-4317-4830-bf74-9c3c1c478fcc",
   "metadata": {},
   "outputs": [
    {
     "name": "stdout",
     "output_type": "stream",
     "text": [
      "max = 77, min = 15, mean = 48.61363636363637\n"
     ]
    }
   ],
   "source": [
    "token_size = []\n",
    "for text in entire_text:\n",
    "    tokens = text.split()\n",
    "    token_size.append(len(tokens))\n",
    "print(f'max = {max(token_size)}, min = {min(token_size)}, mean = {statistics.mean(token_size)}')"
   ]
  },
  {
   "cell_type": "code",
   "execution_count": 39,
   "id": "f6866689-cbec-478d-8573-7992892b1d40",
   "metadata": {},
   "outputs": [
    {
     "name": "stdout",
     "output_type": "stream",
     "text": [
      "[Document(metadata={}, page_content='The audi brand has a model called Q4-e-tron, which is available as a - type in the years [2024].'), Document(metadata={}, page_content='the Drive axle of the Q4-e-tron model from the audi brand is Four-wheel drive.'), Document(metadata={}, page_content='the Gearbox of the Q4-e-tron model from the audi brand is Single-speed automatic transmission.')]\n",
      "Number of chunks: 1318\n"
     ]
    }
   ],
   "source": [
    "text_splitter = RecursiveCharacterTextSplitter(chunk_size=450, chunk_overlap=50)\n",
    "documents = [Document(page_content=text) for text in entire_text]\n",
    "chunks = text_splitter.split_documents(documents)\n",
    "\n",
    "print(chunks[:3])\n",
    "print(\"Number of chunks:\", len(chunks))"
   ]
  },
  {
   "cell_type": "code",
   "execution_count": 41,
   "id": "fc6b3d7e-c015-4c93-bb0b-9322704a83c8",
   "metadata": {},
   "outputs": [
    {
     "name": "stdout",
     "output_type": "stream",
     "text": [
      "Vector store created and persisted.\n"
     ]
    }
   ],
   "source": [
    "db_path = \"db-3\"  # Path to store the vector store\n",
    "\n",
    "# Initialize the embedding model\n",
    "embedding = OllamaEmbeddings(model=\"mxbai-embed-large\")\n",
    "\n",
    "# Create a Chroma vector store from the chunks\n",
    "vector_store = Chroma.from_documents(\n",
    "    documents=chunks, embedding=embedding, persist_directory=db_path\n",
    ")\n",
    "vector_store.persist()\n",
    "print(\"Vector store created and persisted.\")"
   ]
  },
  {
   "cell_type": "code",
   "execution_count": 13,
   "id": "8c974b88-2638-4dbf-9b40-6e016e6d4830",
   "metadata": {},
   "outputs": [],
   "source": [
    "from langchain.chains.combine_documents import create_stuff_documents_chain\n",
    "from langchain.chains import create_retrieval_chain\n",
    "from langchain.prompts import PromptTemplate\n",
    "from langchain_core.prompts import ChatPromptTemplate, MessagesPlaceholder\n",
    "from langchain_ollama.llms import OllamaLLM"
   ]
  },
  {
   "cell_type": "code",
   "execution_count": 15,
   "id": "28efb5db-84b9-44ce-a197-e20ff1397311",
   "metadata": {},
   "outputs": [],
   "source": [
    "cached_llm = OllamaLLM(model=\"gemma3:1b\")"
   ]
  },
  {
   "cell_type": "code",
   "execution_count": 29,
   "id": "f45613aa-c87b-4d3e-9735-0aa0b1a32449",
   "metadata": {},
   "outputs": [],
   "source": [
    "def chat_with_llm(query):\n",
    "    # Load the vector store and create the retriever\n",
    "    vector_store = Chroma(persist_directory = db_path, embedding_function = embedding)\n",
    "    retriever = vector_store.as_retriever(\n",
    "        search_type=\"similarity_score_threshold\",\n",
    "        search_kwargs={\"k\": 15, \"score_threshold\": 0.4},\n",
    "    )\n",
    "\n",
    "\n",
    "    document_chain = create_stuff_documents_chain(cached_llm, raw_prompt)\n",
    "    retrieval_chain = create_retrieval_chain(\n",
    "        retriever=retriever,\n",
    "        combine_docs_chain=document_chain,\n",
    "    )\n",
    "    # Get the answer and update chat history\n",
    "    result = retrieval_chain.invoke({\"input\": query})    \n",
    "    return {\"answer\": result[\"answer\"]}\n"
   ]
  },
  {
   "cell_type": "code",
   "execution_count": null,
   "id": "69a0f154-418f-4541-8bb1-71381c2c0cef",
   "metadata": {},
   "outputs": [],
   "source": []
  },
  {
   "cell_type": "code",
   "execution_count": 42,
   "id": "99d266bf-0024-425f-9c33-89574bac651b",
   "metadata": {},
   "outputs": [],
   "source": [
    "raw_prompt = PromptTemplate.from_template(\n",
    "    \"\"\"\n",
    "    <s>[INST] You are an intelligent assistant specialized in providing detailed information about cars, their specifications, and features. \n",
    "    Your job is to answer user queries accurately and concisely based on the provided context. \n",
    "    If the context does not contain the required information, respond with \"I'm sorry, I couldn't find the information in the provided context.\" \n",
    "\n",
    "    Examples:\n",
    "    1. User Query: \"What is the top speed of the Audi Q4-e-tron?\"\n",
    "       Context: \"the Speed of the Q4-e-tron model from the audi brand is 160.\"\n",
    "       Answer: \"The top speed of the Audi Q4-e-tron is 160 km/h.\"\n",
    "\n",
    "    2. User Query: \"Does the Audi Q4-e-tron have Cruise control?\"\n",
    "       Context: \"the Q4-e-tron model from the audi brand has Cruise control.\"\n",
    "       Answer: \"Yes, the Audi Q4-e-tron has Cruise control.\"\n",
    "\n",
    "    3. User Query: \"which cars don't have Cruise control?\"\n",
    "       Context: [\"the Q4-e-tron model from the audi brand has Cruise control.\", \n",
    "                   \"the full version of the TT-convertible model from the audi brand doesn't have Cruise control.\",\n",
    "                   \"the insignia model from the Opel brand doesn't have Cruise control.\", \n",
    "                   \"the Cruise control of the full version of the 4C model from the alfaromeo brand is custom.\", ...]\n",
    "       Answer: \" the cars that don't have Cruise control are: \n",
    "       1- The full version of the TT-convertible model from the Audi brand.\n",
    "       2- The insignia model from the Opel brand.\"\n",
    "\n",
    "    4. User Query: \"name the Alfa Romeo 4c types.\"\n",
    "       Context: [\"The alfaromeo brand has a model called 4c, which is available as a full type in the years [2016, 2015]\",\n",
    "                   \"The alfaromeo brand has a model called 4c, which is available as a different type in the years [2016, 2015]\",\n",
    "                   \"The alfaromeo brand has a model called mito, which is available as a full type in the years [2016, 2015]\", ...]\n",
    "       Answer: \"The types of the Alfa Romeo 4C are as follows: 1. Full version, 2. Different version.\"\n",
    "\n",
    "    5. User Query: \"which brand make astra model?\"\n",
    "        Context: \"The opel brand has a model called astra, ...\"\n",
    "        Answer: \"The Opel brand makes the Astra model.\"\n",
    "\n",
    "    6. User Query: \"name models of the audi\"\n",
    "        Answer: \"Here are the models of the Audi brand:\n",
    "                1- Q4-e-tron\n",
    "                2- Q5-e-tron\n",
    "                3- Q5\n",
    "                4- TT-convertible\n",
    "                5- TT-coupe\"\n",
    "        \n",
    "    [/INST]</s>\n",
    "    [INST] User Query: {input}\n",
    "           Relevant Context: {context}\n",
    "           Your Answer:\n",
    "    [/INST]\n",
    "\"\"\"\n",
    ")"
   ]
  },
  {
   "cell_type": "code",
   "execution_count": 45,
   "id": "95cdd2d9-8504-4cc9-803b-29506dadcb8a",
   "metadata": {},
   "outputs": [],
   "source": [
    "def conversation():\n",
    "    print(\"Starting conversation...\\n\")\n",
    "    # Start asking questions based on the PDF content\n",
    "    while True:\n",
    "        query = input(\"\\nYou: \")\n",
    "        if query.lower() == \"exit\":\n",
    "            break\n",
    "\n",
    "        response = chat_with_llm(query)\n",
    "        print(\"\\nBot:\", response[\"answer\"])\n"
   ]
  },
  {
   "cell_type": "code",
   "execution_count": 47,
   "id": "354434a5-cb45-4f69-b867-aced2543377e",
   "metadata": {},
   "outputs": [
    {
     "name": "stdout",
     "output_type": "stream",
     "text": [
      "Starting conversation...\n",
      "\n"
     ]
    },
    {
     "name": "stdin",
     "output_type": "stream",
     "text": [
      "\n",
      "You:  what is the power of q5\n"
     ]
    },
    {
     "name": "stdout",
     "output_type": "stream",
     "text": [
      "\n",
      "Bot: The Power of the ۴۰ version of the Q5-e-tron model from the audi brand is 313.\n"
     ]
    },
    {
     "name": "stdin",
     "output_type": "stream",
     "text": [
      "\n",
      "You:  what is the rear wheel of mito\n"
     ]
    },
    {
     "name": "stdout",
     "output_type": "stream",
     "text": [
      "\n",
      "Bot: The rear wheel of the full version of the mito model from the alfaromeo brand is 235/35R19.\n"
     ]
    },
    {
     "name": "stdin",
     "output_type": "stream",
     "text": [
      "\n",
      "You:  exit\n"
     ]
    }
   ],
   "source": [
    "conversation()"
   ]
  },
  {
   "cell_type": "code",
   "execution_count": null,
   "id": "d64aa4b6-f4a5-407b-9cb2-6a8740d42b2f",
   "metadata": {},
   "outputs": [],
   "source": []
  }
 ],
 "metadata": {
  "kernelspec": {
   "display_name": "Python 3 (ipykernel)",
   "language": "python",
   "name": "python3"
  },
  "language_info": {
   "codemirror_mode": {
    "name": "ipython",
    "version": 3
   },
   "file_extension": ".py",
   "mimetype": "text/x-python",
   "name": "python",
   "nbconvert_exporter": "python",
   "pygments_lexer": "ipython3",
   "version": "3.12.3"
  }
 },
 "nbformat": 4,
 "nbformat_minor": 5
}
