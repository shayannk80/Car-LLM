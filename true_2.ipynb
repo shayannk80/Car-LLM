{
 "cells": [
  {
   "cell_type": "code",
   "execution_count": 1,
   "id": "9c2d0fb6-b601-4cd8-a3b6-6eaee6586a4d",
   "metadata": {},
   "outputs": [
    {
     "name": "stdout",
     "output_type": "stream",
     "text": [
      "['The audi brand has a model called Q4-e-tron, which is available as a - type in the years [2024].', 'the Drive axle of the Q4-e-tron model from the audi brand is Four-wheel drive. ', 'the Gearbox of the Q4-e-tron model from the audi brand is Single-speed automatic transmission. ', 'the Battery capacity of the Q4-e-tron model from the audi brand is 84.8. ', 'the Power of the Q4-e-tron model from the audi brand is 313 kW. ']\n"
     ]
    }
   ],
   "source": [
    "import pandas as pd\n",
    "\n",
    "# Load the CSV file\n",
    "df = pd.read_csv('brands_flattened_complete.csv', header=0, index_col=False, encoding='utf-8')\n",
    "\n",
    "# Initialize an empty list to store the sentences\n",
    "entire_text = []\n",
    "\n",
    "# Iterate over each row in the DataFrame\n",
    "for _, row in df.iterrows():\n",
    "    # Start with the base sentence\n",
    "    sentence = f\"The {row['name-en']} brand has a model called {row['model-name-en']}, which is available as a {row['type-name-en']} type in the years {row['type-years']}.\"\n",
    "    entire_text.append(sentence)\n",
    "\n",
    "    # Add all features \n",
    "    for col in df.columns[df.columns.get_loc('Drive axle'):]:\n",
    "        feature_value = row[col]\n",
    "        if pd.notna(feature_value):  # Only include non-NaN values\n",
    "            if row['type-name-en'] != \"-\": #if has type name \n",
    "                if feature_value is True:  \n",
    "                    entire_text.append(f\"the {row['type-name-en']} version of the {row['model-name-en']} model from the {row['name-en']} brand has {col}.\")\n",
    "                elif feature_value is False:  \n",
    "                    entire_text.append(f\"the {row['type-name-en']} version of the {row['model-name-en']} model from the {row['name-en']} brand doesn't have {col}.\")\n",
    "                else:  # For other values (e.g., strings, numbers)\n",
    "                    entire_text.append(f\"the {col} of the {row['type-name-en']} version of the {row['model-name-en']} model from the {row['name-en']} brand is {feature_value}.\")\n",
    "            else:\n",
    "                if feature_value is True:  \n",
    "                    entire_text.append(f\"the {row['model-name-en']} model from the {row['name-en']} brand has {col}.\")\n",
    "                elif feature_value is False:  \n",
    "                    entire_text.append(f\"the {row['model-name-en']} model from the {row['name-en']} brand doesn't have {col}.\")\n",
    "                else:  # For other values (e.g., strings, numbers)\n",
    "                    entire_text.append(f\"the {col} of the {row['model-name-en']} model from the {row['name-en']} brand is {feature_value}. \")\n",
    "\n",
    "# Print the first few sentences to verify\n",
    "print(entire_text[:5])\n",
    "\n"
   ]
  },
  {
   "cell_type": "code",
   "execution_count": 5,
   "id": "4c8572ae-d410-4df1-a72b-063a605bbb8a",
   "metadata": {},
   "outputs": [
    {
     "data": {
      "application/vnd.jupyter.widget-view+json": {
       "model_id": "0abffe5966454afcaf13cb8349fb7017",
       "version_major": 2,
       "version_minor": 0
      },
      "text/plain": [
       "modules.json:   0%|          | 0.00/349 [00:00<?, ?B/s]"
      ]
     },
     "metadata": {},
     "output_type": "display_data"
    },
    {
     "data": {
      "application/vnd.jupyter.widget-view+json": {
       "model_id": "06e180cd8a8a44b3af1d537355f69966",
       "version_major": 2,
       "version_minor": 0
      },
      "text/plain": [
       "config_sentence_transformers.json:   0%|          | 0.00/116 [00:00<?, ?B/s]"
      ]
     },
     "metadata": {},
     "output_type": "display_data"
    },
    {
     "data": {
      "application/vnd.jupyter.widget-view+json": {
       "model_id": "a12100dda2104c2d9cde1ecaa4ca969d",
       "version_major": 2,
       "version_minor": 0
      },
      "text/plain": [
       "README.md:   0%|          | 0.00/9.25k [00:00<?, ?B/s]"
      ]
     },
     "metadata": {},
     "output_type": "display_data"
    },
    {
     "data": {
      "application/vnd.jupyter.widget-view+json": {
       "model_id": "fa8289f47ff54975ade0bd14bbd01f78",
       "version_major": 2,
       "version_minor": 0
      },
      "text/plain": [
       "sentence_bert_config.json:   0%|          | 0.00/53.0 [00:00<?, ?B/s]"
      ]
     },
     "metadata": {},
     "output_type": "display_data"
    },
    {
     "data": {
      "application/vnd.jupyter.widget-view+json": {
       "model_id": "f40470cd8da94b2ca420c1b4bcf58326",
       "version_major": 2,
       "version_minor": 0
      },
      "text/plain": [
       "config.json:   0%|          | 0.00/571 [00:00<?, ?B/s]"
      ]
     },
     "metadata": {},
     "output_type": "display_data"
    },
    {
     "data": {
      "application/vnd.jupyter.widget-view+json": {
       "model_id": "e15edfad367448748fb36b23f02d6a78",
       "version_major": 2,
       "version_minor": 0
      },
      "text/plain": [
       "model.safetensors:   0%|          | 0.00/438M [00:00<?, ?B/s]"
      ]
     },
     "metadata": {},
     "output_type": "display_data"
    },
    {
     "data": {
      "application/vnd.jupyter.widget-view+json": {
       "model_id": "559ac5aa0e0d4396b39a528bf2efa214",
       "version_major": 2,
       "version_minor": 0
      },
      "text/plain": [
       "tokenizer_config.json:   0%|          | 0.00/363 [00:00<?, ?B/s]"
      ]
     },
     "metadata": {},
     "output_type": "display_data"
    },
    {
     "data": {
      "application/vnd.jupyter.widget-view+json": {
       "model_id": "65f4d6628e084dfc95b065e2ba859f86",
       "version_major": 2,
       "version_minor": 0
      },
      "text/plain": [
       "vocab.txt:   0%|          | 0.00/232k [00:00<?, ?B/s]"
      ]
     },
     "metadata": {},
     "output_type": "display_data"
    },
    {
     "data": {
      "application/vnd.jupyter.widget-view+json": {
       "model_id": "ece5576169d946f2a76214d11d9e1abf",
       "version_major": 2,
       "version_minor": 0
      },
      "text/plain": [
       "tokenizer.json:   0%|          | 0.00/466k [00:00<?, ?B/s]"
      ]
     },
     "metadata": {},
     "output_type": "display_data"
    },
    {
     "data": {
      "application/vnd.jupyter.widget-view+json": {
       "model_id": "46f88efd628d4ceebe159a91a7cd3240",
       "version_major": 2,
       "version_minor": 0
      },
      "text/plain": [
       "special_tokens_map.json:   0%|          | 0.00/239 [00:00<?, ?B/s]"
      ]
     },
     "metadata": {},
     "output_type": "display_data"
    },
    {
     "data": {
      "application/vnd.jupyter.widget-view+json": {
       "model_id": "42fc078db5b84c17bda73272d463a89d",
       "version_major": 2,
       "version_minor": 0
      },
      "text/plain": [
       "config.json:   0%|          | 0.00/190 [00:00<?, ?B/s]"
      ]
     },
     "metadata": {},
     "output_type": "display_data"
    }
   ],
   "source": [
    "from sentence_transformers import SentenceTransformer\n",
    "\n",
    "# Load pre-trained model\n",
    "model = SentenceTransformer('sentence-transformers/multi-qa-mpnet-base-cos-v1')\n",
    "\n",
    "# Generate embeddings\n",
    "embeddings = model.encode(entire_text)"
   ]
  },
  {
   "cell_type": "code",
   "execution_count": 7,
   "id": "05756347-1399-4155-a064-6dcd3adfef0a",
   "metadata": {},
   "outputs": [],
   "source": [
    "import faiss\n",
    "import numpy as np\n",
    "\n",
    "# Convert embeddings to numpy array\n",
    "embeddings = np.array(embeddings)\n",
    "\n",
    "# Create a FAISS index\n",
    "index = faiss.IndexFlatL2(embeddings.shape[1])  # L2 distance for similarity\n",
    "\n",
    "# Add embeddings to the index\n",
    "index.add(embeddings)\n"
   ]
  },
  {
   "cell_type": "code",
   "execution_count": 9,
   "id": "3836efc1-4f22-4ecc-af65-680a76b5863f",
   "metadata": {},
   "outputs": [
    {
     "name": "stdin",
     "output_type": "stream",
     "text": [
      "\n",
      "first:  i dont like you\n",
      "\n",
      "second:  i like you\n"
     ]
    },
    {
     "name": "stdout",
     "output_type": "stream",
     "text": [
      "0.74194\n"
     ]
    },
    {
     "name": "stdin",
     "output_type": "stream",
     "text": [
      "\n",
      "first:  i dont like you\n",
      "\n",
      "second:  i hate you\n"
     ]
    },
    {
     "name": "stdout",
     "output_type": "stream",
     "text": [
      "0.72622854\n"
     ]
    },
    {
     "name": "stdin",
     "output_type": "stream",
     "text": [
      "\n",
      "first:  exit\n"
     ]
    }
   ],
   "source": [
    "###### check 2 sentence similarity (with cosine)\n",
    "\n",
    "from sklearn.metrics.pairwise import cosine_similarity\n",
    "\n",
    "while True:\n",
    "    q1 = input(\"\\nfirst: \")\n",
    "    if q1.lower() == \"exit\":\n",
    "        break\n",
    "    q2 = input(\"\\nsecond: \")\n",
    "    \n",
    "    embeddings = model.encode([q1, q2])\n",
    "    similarity = cosine_similarity([embeddings[0]], [embeddings[1]])[0][0]\n",
    "    \n",
    "    print(similarity)  \n",
    "    "
   ]
  },
  {
   "cell_type": "code",
   "execution_count": 47,
   "id": "1dd3af6c-c76f-4c23-ad47-71bf56531863",
   "metadata": {},
   "outputs": [
    {
     "name": "stdin",
     "output_type": "stream",
     "text": [
      "\n",
      "first:  i like you\n",
      "\n",
      "second:  i dont like you\n"
     ]
    },
    {
     "name": "stdout",
     "output_type": "stream",
     "text": [
      "0.9280807375907898\n"
     ]
    },
    {
     "name": "stdin",
     "output_type": "stream",
     "text": [
      "\n",
      "first:  i dont like you\n",
      "\n",
      "second:  i hate you\n"
     ]
    },
    {
     "name": "stdout",
     "output_type": "stream",
     "text": [
      "0.8384539484977722\n"
     ]
    },
    {
     "name": "stdin",
     "output_type": "stream",
     "text": [
      "\n",
      "first:  i need money\n",
      "\n",
      "second:  i want money\n"
     ]
    },
    {
     "name": "stdout",
     "output_type": "stream",
     "text": [
      "0.7644709348678589\n"
     ]
    },
    {
     "name": "stdin",
     "output_type": "stream",
     "text": [
      "\n",
      "first:  \n",
      "\n",
      "second:  i need money\n"
     ]
    },
    {
     "name": "stdout",
     "output_type": "stream",
     "text": [
      "1.2917919158935547\n"
     ]
    },
    {
     "name": "stdin",
     "output_type": "stream",
     "text": [
      "\n",
      "first:  i need money\n",
      "\n",
      "second:  i dont need money\n"
     ]
    },
    {
     "name": "stdout",
     "output_type": "stream",
     "text": [
      "0.6419888138771057\n"
     ]
    },
    {
     "name": "stdin",
     "output_type": "stream",
     "text": [
      "\n",
      "first:  I'm surely in the hurry to have the money\n",
      "\n",
      "second:  I need money\n"
     ]
    },
    {
     "name": "stdout",
     "output_type": "stream",
     "text": [
      "1.109007716178894\n"
     ]
    },
    {
     "name": "stdin",
     "output_type": "stream",
     "text": [
      "\n",
      "first:  I'm surely in the hurry to have the money\n",
      "\n",
      "second:  I absolutely do not need the money\n"
     ]
    },
    {
     "name": "stdout",
     "output_type": "stream",
     "text": [
      "1.0349351167678833\n"
     ]
    },
    {
     "name": "stdin",
     "output_type": "stream",
     "text": [
      "\n",
      "first:  exit\n"
     ]
    }
   ],
   "source": [
    "###### check 2 sentence distance (with Euclidean )\n",
    "\n",
    "from scipy.spatial.distance import euclidean\n",
    "\n",
    "while True:\n",
    "    q1 = input(\"\\nfirst: \")\n",
    "    if q1.lower() == \"exit\":\n",
    "        break\n",
    "    q2 = input(\"\\nsecond: \")\n",
    "    \n",
    "    embeddings = model.encode([q1, q2])\n",
    "    similarity = euclidean(embeddings[0], embeddings[1])\n",
    "    \n",
    "    print(similarity)  "
   ]
  },
  {
   "cell_type": "code",
   "execution_count": 39,
   "id": "3b1d12e3-48b1-4a9c-bbf9-04fa3a827592",
   "metadata": {},
   "outputs": [],
   "source": [
    "import ollama\n",
    "\n",
    "def retrieve_answer(query, index, flat_data, model):\n",
    "    # Generate the embedding for the query\n",
    "    query_embedding = model.encode([query])\n",
    "\n",
    "    # Search the index for the most similar data\n",
    "    D, I = index.search(query_embedding, k = 10)  # k is the number of top results to retrieve\n",
    "\n",
    "    # Get the closest matches from the flat data\n",
    "    results_with_scores = [(flat_data[i], D[0][idx]) for idx, i in enumerate(I[0])]\n",
    "\n",
    "    similar_sentences = [result[0] for result in results_with_scores]\n",
    "\n",
    "     # Initialize the Ollama client\n",
    "    client = ollama.Client()\n",
    "\n",
    "    content = f\"\"\"You are an intelligent assistant specialized in providing detailed information about cars, their specifications, and features. \n",
    "        Your job is to answer user queries accurately and concisely based on the provided context. \n",
    "        you must first find the best answer based on the question in the following sentences: {similar_sentences}.\n",
    "        then answer the user's question correctly and completely\"\"\"\n",
    "    \n",
    "    # Generate the answer using Gemma3\n",
    "    response = client.chat(\n",
    "        model='deepseek-r1:1.5b',\n",
    "        messages=[{'role': 'user', 'content': content}]\n",
    "    )\n",
    "\n",
    "    # Extract and return the answer\n",
    "    answer = response['message']['content']\n",
    "    \n",
    "    return answer"
   ]
  },
  {
   "cell_type": "code",
   "execution_count": null,
   "id": "e1d97d74-6a58-4946-8de4-4a52838c4777",
   "metadata": {},
   "outputs": [
    {
     "name": "stdin",
     "output_type": "stream",
     "text": [
      "\n",
      "You:  name some cars with sunroof\n"
     ]
    },
    {
     "name": "stdout",
     "output_type": "stream",
     "text": [
      "<think>\n",
      "Okay, so I'm trying to figure out how to answer a user's query about car features. The context provided lists several models with 'Sunroof' mentioned in parentheses. My task is to first identify all these models and then provide accurate information based on the given data.\n",
      "\n",
      "First, I'll list out each model as per the context:\n",
      "\n",
      "1. Audi Q4-e-tron with Sunroof.\n",
      "2. Opel Moka with Sunroof.\n",
      "3. J-company Astra notch back version with Sunroof.\n",
      "4. J-company Astra full version with Sunroof.\n",
      "5. Audi 1400J Astra with Sunroof.\n",
      "6. Audi 1600J Astra with Sunroof.\n",
      "7. Opel Insignia insignia model with Sunroof.\n",
      "8. TT-coupe model from Audi, full version doesn't have Sunroof.\n",
      "9. TT-convertible model from Audi, full version doesn't have Sunroof.\n",
      "\n",
      "Now, I need to think about the user's possible query. They might be asking about which cars have SunROofs or trying to understand if certain models are available with this feature. Since each entry includes 'Sunroof' in parentheses, it seems like all these models come with that feature.\n",
      "\n",
      "However, some entries mention the full version of a specific model doesn't have a Sunroof. For example, the full TT-coupe model from Audi doesn't have one. So if someone is asking about whether both the basic and full versions have the Sunroof, they might need to clarify.\n",
      "\n",
      "I should make sure my answer covers all the models listed and perhaps touches on any exceptions where certain versions don't have it. It's also important to explain that 'Sunroof' refers to a specific feature and that not all models come with it, which could be due to design choices or production limits.\n",
      "\n",
      "So putting it all together, I'll list each model with the Sunroof information and add an entry about exceptions where certain full versions don't have it. This way, the answer is comprehensive and covers both the available features and any limitations.\n",
      "</think>\n",
      "\n",
      "Here is a clear summary of the car models listed with their respective 'Sunroof' status:\n",
      "\n",
      "- **Audi Q4-e-tron**: Has Sunroof.\n",
      "- **Opel Moka**: Has Sunroof.\n",
      "- **J-company Astra notch back version**: Has Sunroof.\n",
      "- **J-company Astra full version**: Has Sunroof.\n",
      "- **Audi 1400J Astra**: Has Sunroof.\n",
      "- **Audi 1600J Astra**: Has Sunroof.\n",
      "- **Opel Insignia insignia model**: Has Sunroof.\n",
      "- **TT-coupe model from Audi (full version)**: Does not have Sunroof.\n",
      "- **TT-convertible model from Audi (full version)**: Does not have Sunroof.\n",
      "\n",
      "This list provides a comprehensive overview of each car's feature, noting where 'Sunroof' is included and where it isn't.\n"
     ]
    },
    {
     "name": "stdin",
     "output_type": "stream",
     "text": [
      "\n",
      "You:  name models of audi \n"
     ]
    },
    {
     "name": "stdout",
     "output_type": "stream",
     "text": [
      "<think>\n",
      "Okay, so I'm trying to figure out what each part means. Let me go through it step by step.\n",
      "\n",
      "First, there are a bunch of sentences provided about different models by Audi. Each one gives some information like model name, years available, features in certain generations, body types, etc. The user probably wants me to parse all this data accurately and answer questions based on the context.\n",
      "\n",
      "Let's list out each model with their details:\n",
      "\n",
      "1. Q5: Full-line package starting from 2024 down to 2015. It also mentions a Generation (Body code) of 1234.\n",
      "2. Q5-e-tron: A ۴۰ model available in 2024 and 2023. The body type is Small crossover size.\n",
      "3. Q4-e-tron: Not sure about the details here, but it's a -type in 2024.\n",
      "4. TT-coupe: Full-type starting from 2011 to 2006. Its body type is Full.\n",
      "5. TT-convertible: Full-type available since 2023 and prior. Body type is also Small crossover size.\n",
      "6. Other models like Q5-e-tron, Q4-e-tron don't specify their full details here.\n",
      "\n",
      "I'm assuming the user might have a specific question about these models or their features. Since I don't know exactly what they're asking for, I'll try to cover all possible areas based on the given data.\n",
      "\n",
      "First, I should probably list each model with its years, body type, and any other relevant details from the provided sentences. This will help in answering questions accurately without making up information.\n",
      "\n",
      "Let me organize them:\n",
      "\n",
      "- **Q5**: Available starting from 2015 to 2024.\n",
      "- **Q5-e-tron**: Available in 2024, year unspecified. Body type is Small crossover size.\n",
      "- **Q4-e-tron**: Year isn't specified here. It's a -type.\n",
      "- **TT-coupe**: Full package since 2011 to 2006. Body type is Full.\n",
      "- **TT-convertible**: Also full package, available from 2023 onwards, but the body size is unclear.\n",
      "\n",
      "I think that's all the information given. Maybe if someone asks about specific features or years, I can confirm which models are available in those years and provide more details about their bodies.\n",
      "\n",
      "If there's a particular model or feature the user is interested in, like \"is the Q5-e-tron available now?\" I could answer yes for 2024. For body type, since it's mentioned as Small crossover size, that should be straightforward.\n",
      "\n",
      "I don't have any other details from the provided context, so my answers will mostly rely on this information. If there are more queries about models or features not covered here, maybe I can provide general knowledge based on standard Audi features.\n",
      "</think>\n",
      "\n",
      "Based on the provided data, each model's availability and body type are as follows:\n",
      "\n",
      "1. **Q5**: Available from 2015 to 2024.\n",
      "2. **Q5-e-tron**: Not specified for years but noted as a ۴۰ model available in 2024 and 2023, with a Small crossover size body type.\n",
      "3. **Q4-e-tron**: Details not provided.\n",
      "4. **TT-coupe**: Full package since 2011 to 2006, with a Full body type.\n",
      "5. **TT-convertible**: Full package available from 2023 onwards, but the body size is unclear.\n",
      "\n",
      "If you have specific questions about these models or features, feel free to ask!\n"
     ]
    },
    {
     "name": "stdin",
     "output_type": "stream",
     "text": [
      "\n",
      "You:  which cars doesnt have auto lights\n"
     ]
    },
    {
     "name": "stdout",
     "output_type": "stream",
     "text": [
      "<think>\n",
      "Okay, let me try to figure out how to respond to this query. The user has provided a list of car models with specific features regarding Auto lights in their full versions. They want an answer that accurately describes each model's Autopark.\n",
      "\n",
      "First, I need to process the information given. Each entry like \"the Q4-e-tron model from the Audi brand has Auto lights.\" or \"the mokka model from the Opel brand has Auto lights.\" needs to be parsed for any special conditions or exclusions, such as full versions not having Auto lights.\n",
      "\n",
      "I notice that some models, like \"the full version of the TT-coupe model from the Audi brand doesn't have Auto lights.\", and others like the Q5 model in Audi do. Similarly, Opel models sometimes have Auto lights, but others don't, depending on their full versions.\n",
      "\n",
      "The user wants a comprehensive answer, so I should structure it to highlight each car's status without ambiguity. I'll need to mention the brand names and any specific details about their full versions regarding Auto lights. It's important to note that some models' features might vary from the base model.\n",
      "\n",
      "I also see some variations in formatting, like using \"۴۰\" instead of \"40\", which is acceptable since they're standard abbreviations. I should maintain consistency with these and any other special characters as specified.\n",
      "\n",
      "Finally, putting it all together, I'll need to present each car's feature clearly, noting whether their full versions have Auto lights or not. This way, the user gets a clear and accurate understanding of each model's Autopark status.\n",
      "</think>\n",
      "\n",
      "The Q4-e-tron from Audi has Auto lights in its full version. The mokka from Opel does have Auto lights in its full version. The full version of the TT-coupe model from Audi doesn't have Auto lights, while the full version of the TT-convertible model also lacks Auto lights. The full version of the Q5 model from Audi has Auto lights. The 1400J-group from Astra has Auto lights in its full version. The 40th version of the Q5-e-tron from Audi doesn't have Auto lights, and the Opel Insignia version of the insignia model does. The full version of the 4C model from Alfaromeo doesn't have Auto lights.\n"
     ]
    },
    {
     "name": "stdin",
     "output_type": "stream",
     "text": [
      "\n",
      "You:  how many cars dont have sunroof\n"
     ]
    },
    {
     "name": "stdout",
     "output_type": "stream",
     "text": [
      "<think>\n",
      "Okay, so I need to figure out what the best answer is for a given query. The context provided includes several statements about different models from Audi and Opel brands with or without a Sunroof. \n",
      "\n",
      "First, I'll read through each statement carefully. Let me list them out:\n",
      "\n",
      "1. 'the Q4-e-tron model from the audi brand has Sunroof.'\n",
      "2. 'the ۴۰ version of the Q5-e-tron model from the audi brand has Sunroof.'\n",
      "3. 'the mokka model from the opel brand has Sunroof.'\n",
      "4. \"the full version of the TT-convertible model from the audi brand doesn't have Sunroof.\"\n",
      "5. \"the full version of the TT-coupe model from the audi brand doesn't have Sunroof.\"\n",
      "6. 'the J-company version of the astra notch back model from the opel brand has Sunroof.'\n",
      "7. 'the 1400J-company version of the astra model from the opel brand has Sunroof.'\n",
      "8. 'the 1600J-company version of the astra model from the opel brand has Sunroof.'\n",
      "9. \"the full-s-line-package version of the Q5 model from the audi brand doesn't have Sunroof.\"\n",
      "10. 'the Opel Insignia version of the insignia model from the opel brand has Sunroof.'\n",
      "\n",
      "Now, I need to decide which one is the best answer for a given query. Let's consider some possible questions:\n",
      "\n",
      "- Is there any information about the sunroof availability?\n",
      "- How many versions are available for each model?\n",
      "- Does the sunroof vary per manufacturer or specific years?\n",
      "\n",
      "Looking at the context, several models have Sunroof information (1,2,3,7,8,9) and others don't (4,5,6,10). So I might need to clarify which version is being referred to.\n",
      "\n",
      "Suppose someone asks about a specific version. For example, if they're asking for the J-company version of the astra notch back model, then statement 6 would be accurate. Alternatively, if it's the 1400J or 1600J astra models, statements 7 and 8 are relevant.\n",
      "\n",
      "I should present all available information clearly so the user can choose which one fits their query. It's also important to note that not all models have Sunroof, which might affect certain types of inquiries.\n",
      "</think>\n",
      "\n",
      "To determine the best answer, I need to analyze each provided statement about car availability with a Sunroof:\n",
      "\n",
      "1. **Q4-e-tron and ۴۰ Q5-e-tron models** from Audi have Sunroof information.\n",
      "2. The mokka model from Opel has Sunroof.\n",
      "3. The full version of the TT-convertible model doesn't have a Sunroof.\n",
      "4. The full version of the TT-coupe model doesn't have a Sunroof.\n",
      "5. J-company's astra notch back and 1400J astra models have Sunroof.\n",
      "6. Opel Insignia's insignia model has Sunroof.\n",
      "\n",
      "For specific inquiries, I can accurately answer based on these points. However, some models lack the Sunroof, which might affect certain types of queries. It's essential to present all available information clearly for accurate responses.\n"
     ]
    },
    {
     "name": "stdin",
     "output_type": "stream",
     "text": [
      "\n",
      "You:  which car needs small parking space\n"
     ]
    },
    {
     "name": "stdout",
     "output_type": "stream",
     "text": [
      "<think>\n",
      "Okay, I need to figure out what the user is asking. They provided a list of sentences each starting with either ' Audi' or 'Odel' brands, along with some specifications about models like Q4-e-tron, ۴۰ version, Body type, and Auto Park status. The user's query is incomplete—it just says \"you must first find the best answer based on question in following sentences: ['the Q4-e-tron model from the audi brand has Auto park.', 'the ۴۰ version of the Q5-e-tron model from the audi brand has Auto park.', 'the Body type of the full-s-line-package version of the Q5 model from the audi brand is Small sedan.', \"the mokka model from the opel brand doesn't have Auto park.\", 'the 1400J-company version of the astra model from the opel brand doesn't have Auto park.', 'the Body type of the full version of the TT-convertible model from the audi brand is Small sedan.', \"the 1600J-company version of the astra model from the opel brand doesn't have Auto park.\", 'the full version of the TT-coupe model from the audi brand doesn't have Auto park.'].\"]\n",
      "\n",
      "Wait, that seems like each of these sentences is actually the question to answer. So the user wants me to process all those sentences and provide a detailed response based on the provided context.\n",
      "\n",
      "I should go through each one step by step. Each sentence starts with a specific model or brand and describes their features. My task is to extract the necessary information, perhaps list them in order, and then create an answer that covers all these points concisely.\n",
      "\n",
      "First, I'll read through each of the sentences:\n",
      "\n",
      "1. Q4-e-tron from Audi has Auto Park.\n",
      "2. ۴۰ version of Q5-e-tron from Audi has Auto Park.\n",
      "3. Body type of full-s-line-package Q5 is Small sedan.\n",
      "4. Mokka model from Odel doesn't have Auto Park.\n",
      "5. 1400J-group astra model from Odel doesn't have Auto Park.\n",
      "6. Body type of full TT-convertible Q from Audi is Small sedan.\n",
      "7. 1600J-group astra model from Odel doesn't have Auto Park.\n",
      "8. Full version of Giulietta model from Alfaromeo doesn't have Auto Park.\n",
      "9. Full version of TT-coupe model from Audi doesn't have Auto Park.\n",
      "\n",
      "I need to address each of these, perhaps in the order they are presented.\n",
      "\n",
      "Let me think about what information I can extract:\n",
      "\n",
      "- Audi models (Q4-e-tron, Q5-e-tron) have Auto Park status.\n",
      "- Odel models (astra) don't have Auto Park except for maybe specific parts.\n",
      "- Body types: Some models are Small sedans, others might be different.\n",
      "- The rest of the sentences likely describe other features or characteristics.\n",
      "\n",
      "I should structure my answer by first addressing each model's Auto Park status and then other relevant points. Maybe list all models mentioned with their Auto Park info, body type, etc.\n",
      "\n",
      "Wait, but the user's original query seems to have incomplete sentences. They wrote:\n",
      "\n",
      "\"You must first find the best answer based on following sentences: ['the Q4-e-tron model from the audi brand has Auto park.', 'the ۴۰ version of the Q5-e-tron model from the audi brand has Auto park.', 'the Body type of the full-s-line-package version of the Q5 model from the audi brand is Small sedan., \"the mokka model from the opel brand doesn't have Auto park.\", 'the 1400J-company version of the astra model from the opel brand doesn't have Auto park.', 'the Body type of the full version of the TT-convertible model from the audi brand is Small sedan., \"the 1600J-group version of the astra model from the opel brand doesn't have Auto park.\", 'the full version of the TT-coupe model from the audi brand doesn't have Auto park.].'\"\n",
      "\n",
      "So each sentence is a separate question. I need to answer each one in order, providing accurate information.\n",
      "\n",
      "I should make sure to mention the brands correctly: Audi and Odel where appropriate. Highlighting that certain models don't have Auto Park status while others do.\n",
      "\n",
      "Wait, but in the first example provided by the user, they included \"the ۴۰ version of the Q5-e-tron model from the audi brand has Auto park.\" Maybe the numbers vary; perhaps it's a typo and should be something else. I need to make sure I correctly interpret each sentence.\n",
      "\n",
      "After processing all these sentences, my response will list each model with their respective Auto Park status, body type, and any other relevant details as provided.\n",
      "</think>\n",
      "\n",
      "Certainly! Here is an organized and detailed answer based on the information provided:\n",
      "\n",
      "**Model Overview:**\n",
      "\n",
      "1. **Q4-e-tron Model (Audi):**\n",
      "   - Has Auto Park.\n",
      "\n",
      "2. **۴۰ Version of Q5-e-tron Model (Audi):**\n",
      "   - Has Auto Park.\n",
      "\n",
      "3. **Full-s-line-package Version of Q5 Model (Audi):**\n",
      "   - Body type: Small sedan.\n",
      "\n",
      "4. **Mokka Model (Odel) Does Not Have Auto Park.\n",
      "\n",
      "5. **1400J-Group Model (Odel) Does Not Have Auto Park.\n",
      "\n",
      "6. **Full Version of TT-convertible Model (Audi):**\n",
      "   - Body type: Small sedan.\n",
      "\n",
      "7. **1600J-Group Model (Odel) Does Not Have Auto Park.\n",
      "\n",
      "8. **Giulietta Model (Alfaromeo) Does Not Have Auto Park.\n",
      "\n",
      "9. **TT-coupe Model (Audi) Does Not Have Auto Park.\n",
      "\n",
      "This response provides a clear breakdown of each model's specifications and relevant features, organized in a structured manner for easy reference.\n"
     ]
    },
    {
     "name": "stdin",
     "output_type": "stream",
     "text": [
      "\n",
      "You:  which car is bigger in size\n"
     ]
    },
    {
     "name": "stdout",
     "output_type": "stream",
     "text": [
      "<think>\n",
      "Okay, let me try to figure this out. The user has provided several pieces of information about different car models from two brands: Audi and Opel. Each entry gives details like body type, engine displacement, widths, availability years, and maybe other specs.\n",
      "\n",
      "First, I need to understand what the user is asking. They've given a set of facts, which include:\n",
      "\n",
      "1. Body types for Audi TT-coupe models in different years.\n",
      "2. Width measurements for Audi TT-coupe and Opel Insignia models.\n",
      "3. Engine displacement figures.\n",
      "4. Availability years of Audi TT-coupe and Opel astra models.\n",
      "\n",
      "I need to figure out how the user wants me to use this information. They mentioned that each entry is a fact about these cars, so I should be able to answer any question based on these facts accurately and concisely.\n",
      "\n",
      "Let me start by organizing all the provided data for clarity:\n",
      "\n",
      "- Audi TT-coupe: Available from 2023 down to 2006. Body type is Small sedan.\n",
      "- Opel Insignia: Mid-size sedan with a certain year range, width mentioned as 1842 and 2013.\n",
      "\n",
      "Now, I should consider the user's possible questions based on this data. Since they provided facts, any question can be answered using these details.\n",
      "\n",
      "For example, if someone asks about the body type of the Audi TT-coupe, I can answer it directly from the provided information. Similarly, if they ask about Opel Insignia's width, I can state both available years and mention the width figures.\n",
      "\n",
      "I should also consider whether there are any missing data or uncertainties. It seems all the given facts are complete, so the user shouldn't have any issues with this data.\n",
      "\n",
      "In summary, my task is to take each piece of provided information and present it clearly. I'll make sure to answer any question based on these details accurately, ensuring clarity and conciseness.\n",
      "</think>\n",
      "\n",
      "The Body type of the full version of the Audi TT-convertible model from 2023 onwards is a Small sedan, with widths of 1842mm and 1605mm. Opel Insignia offers a Mid-size sedan with widths of 1842mm and 2013mm available from specific years.\n"
     ]
    }
   ],
   "source": [
    "while True:\n",
    "    query = input(\"\\nYou: \")\n",
    "    if query.lower() == \"exit\":\n",
    "        break\n",
    "\n",
    "    response = retrieve_answer(query, index, entire_text, model)\n",
    "    print(response)\n",
    "   # for result, score in response:\n",
    "   #     print(f\"Result: {result}\\nScore: {score}\\n\")"
   ]
  },
  {
   "cell_type": "code",
   "execution_count": null,
   "id": "3c570611-8553-484c-aa65-8fc9583b59c4",
   "metadata": {},
   "outputs": [],
   "source": []
  }
 ],
 "metadata": {
  "kernelspec": {
   "display_name": "Python 3 (ipykernel)",
   "language": "python",
   "name": "python3"
  },
  "language_info": {
   "codemirror_mode": {
    "name": "ipython",
    "version": 3
   },
   "file_extension": ".py",
   "mimetype": "text/x-python",
   "name": "python",
   "nbconvert_exporter": "python",
   "pygments_lexer": "ipython3",
   "version": "3.12.3"
  }
 },
 "nbformat": 4,
 "nbformat_minor": 5
}
